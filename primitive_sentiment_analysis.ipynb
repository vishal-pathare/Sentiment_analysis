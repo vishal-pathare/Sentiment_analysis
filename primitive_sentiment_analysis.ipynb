{
  "nbformat": 4,
  "nbformat_minor": 0,
  "metadata": {
    "colab": {
      "name": "primitive_sentiment_analysis.ipynb",
      "version": "0.3.2",
      "provenance": []
    },
    "kernelspec": {
      "name": "python3",
      "display_name": "Python 3"
    },
    "accelerator": "GPU"
  },
  "cells": [
    {
      "cell_type": "code",
      "metadata": {
        "id": "P8RXuerxyKf3",
        "colab_type": "code",
        "colab": {}
      },
      "source": [
        "import torch\n",
        "import torch.nn as nn\n",
        "from torchtext import data\n",
        "\n",
        "torch.backends.cudnn.deterministic = True\n",
        "TEXT = data.Field(tokenize = \"spacy\", include_lengths=True)\n",
        "LABEL = data.LabelField(dtype = torch.float)"
      ],
      "execution_count": 0,
      "outputs": []
    },
    {
      "cell_type": "code",
      "metadata": {
        "id": "FQoiNMs4AB8T",
        "colab_type": "code",
        "colab": {
          "base_uri": "https://localhost:8080/",
          "height": 52
        },
        "outputId": "23a374fb-b9e6-403a-be67-9c3872f61d6f"
      },
      "source": [
        "from torchtext import datasets\n",
        "train_data, test_data = datasets.IMDB.splits(TEXT, LABEL)"
      ],
      "execution_count": 2,
      "outputs": [
        {
          "output_type": "stream",
          "text": [
            "\raclImdb_v1.tar.gz:   0%|          | 0.00/84.1M [00:00<?, ?B/s]"
          ],
          "name": "stderr"
        },
        {
          "output_type": "stream",
          "text": [
            "downloading aclImdb_v1.tar.gz\n"
          ],
          "name": "stdout"
        },
        {
          "output_type": "stream",
          "text": [
            "aclImdb_v1.tar.gz: 100%|██████████| 84.1M/84.1M [00:03<00:00, 23.3MB/s]\n"
          ],
          "name": "stderr"
        }
      ]
    },
    {
      "cell_type": "code",
      "metadata": {
        "id": "TelFkDXFAPRo",
        "colab_type": "code",
        "colab": {
          "base_uri": "https://localhost:8080/",
          "height": 52
        },
        "outputId": "4b8949f0-108c-4c4a-83a5-659eee26e9d9"
      },
      "source": [
        "print ('No. of training examples : {}'.format(len(train_data)))\n",
        "print ('No. of testing examples : {}'.format(len(test_data)))"
      ],
      "execution_count": 3,
      "outputs": [
        {
          "output_type": "stream",
          "text": [
            "No. of training examples : 25000\n",
            "No. of testing examples : 25000\n"
          ],
          "name": "stdout"
        }
      ]
    },
    {
      "cell_type": "code",
      "metadata": {
        "id": "h7AJTIJlOK5e",
        "colab_type": "code",
        "colab": {}
      },
      "source": [
        "train_data, valid_data = train_data.split()"
      ],
      "execution_count": 0,
      "outputs": []
    },
    {
      "cell_type": "code",
      "metadata": {
        "id": "50lxwALEOmyC",
        "colab_type": "code",
        "colab": {
          "base_uri": "https://localhost:8080/",
          "height": 52
        },
        "outputId": "e70ea963-cd18-4f4c-a784-3cf8e2f11a30"
      },
      "source": [
        "print ('No. of training examples : {}'.format(len(train_data)))\n",
        "print ('No. of validation examples : {}'.format(len(valid_data)))"
      ],
      "execution_count": 5,
      "outputs": [
        {
          "output_type": "stream",
          "text": [
            "No. of training examples : 17500\n",
            "No. of validation examples : 7500\n"
          ],
          "name": "stdout"
        }
      ]
    },
    {
      "cell_type": "code",
      "metadata": {
        "id": "ktk5OCVAO7Pl",
        "colab_type": "code",
        "colab": {
          "base_uri": "https://localhost:8080/",
          "height": 52
        },
        "outputId": "fabc3193-14a5-4497-a228-0cba901c366c"
      },
      "source": [
        "MAX_VOCAB_SIZE = 25000\n",
        "\n",
        "TEXT.build_vocab(train_data, max_size = MAX_VOCAB_SIZE, vectors = \"glove.6B.100d\", unk_init = torch.Tensor.normal_)\n",
        "LABEL.build_vocab(train_data)"
      ],
      "execution_count": 6,
      "outputs": [
        {
          "output_type": "stream",
          "text": [
            ".vector_cache/glove.6B.zip: 862MB [00:22, 39.2MB/s]                           \n",
            "100%|█████████▉| 398407/400000 [00:17<00:00, 23150.02it/s]"
          ],
          "name": "stderr"
        }
      ]
    },
    {
      "cell_type": "code",
      "metadata": {
        "id": "7_VGiHPsRZrg",
        "colab_type": "code",
        "colab": {}
      },
      "source": [
        "batch_size = 64\n",
        "\n",
        "device = torch.device('cuda')\n",
        "train_iterator, valid_iterator, test_iterator = data.BucketIterator.splits((train_data, valid_data, test_data), batch_size = batch_size, sort_within_batch = True, device = device)"
      ],
      "execution_count": 0,
      "outputs": []
    },
    {
      "cell_type": "code",
      "metadata": {
        "id": "JE_HaorlTYpV",
        "colab_type": "code",
        "colab": {}
      },
      "source": [
        "class RNN(nn.Module):\n",
        "    def __init__(self, input_dim, embedding_dim, hidden_dim, output_dim, pad_idx, no_of_layers = 2, bidirectional = True, dropout = 0.1):\n",
        "        super(RNN, self).__init__()\n",
        "        self.embedding = nn.Embedding(input_dim, embedding_dim, padding_idx = pad_idx)\n",
        "        self.rnn = nn.LSTM(embedding_dim, hidden_dim, num_layers = no_of_layers, bidirectional = bidirectional, dropout = dropout)\n",
        "        self.fc = nn.Linear(hidden_dim * 2, output_dim)\n",
        "        self.dropout = nn.Dropout(dropout)\n",
        "\n",
        "    def forward(self, text, text_lengths):\n",
        "        embedding = self.dropout(self.embedding(text))\n",
        "        packed_embedding = nn.utils.rnn.pack_padded_sequence(embedding, text_lengths)\n",
        "        packed_output, (hidden, cell) = self.rnn(packed_embedding)\n",
        "        output, output_lengths = nn.utils.rnn.pad_packed_sequence(packed_output)\n",
        "        output = self.dropout(torch.cat((hidden[-2, :, :], hidden[-1, :, :]), dim = 1))\n",
        "        output = self.fc(output)\n",
        "        return output"
      ],
      "execution_count": 0,
      "outputs": []
    },
    {
      "cell_type": "code",
      "metadata": {
        "id": "db_gPg0ZUf5g",
        "colab_type": "code",
        "colab": {}
      },
      "source": [
        "input_dim = len(TEXT.vocab)\n",
        "embedding_dim = 100\n",
        "hidden_dim = 256\n",
        "output_dim = 1\n",
        "pad_idx = TEXT.vocab.stoi[TEXT.pad_token]\n",
        "dropout = 0.5\n",
        "bidirectional = True\n",
        "no_of_layers = 2\n",
        "\n",
        "model = RNN(input_dim, embedding_dim, hidden_dim, output_dim, pad_idx, no_of_layers, bidirectional, dropout)"
      ],
      "execution_count": 0,
      "outputs": []
    },
    {
      "cell_type": "code",
      "metadata": {
        "id": "fkQ-polfLOky",
        "colab_type": "code",
        "colab": {
          "base_uri": "https://localhost:8080/",
          "height": 34
        },
        "outputId": "ff02aab3-79da-4438-f9ab-d524df6c3d40"
      },
      "source": [
        "pretrained_embeddings = TEXT.vocab.vectors\n",
        "print (pretrained_embeddings.shape)"
      ],
      "execution_count": 10,
      "outputs": [
        {
          "output_type": "stream",
          "text": [
            "torch.Size([25002, 100])\n"
          ],
          "name": "stdout"
        }
      ]
    },
    {
      "cell_type": "code",
      "metadata": {
        "id": "4Ee_9M-WLXqX",
        "colab_type": "code",
        "colab": {
          "base_uri": "https://localhost:8080/",
          "height": 139
        },
        "outputId": "8ef79f86-7399-4669-8c23-9176f530c070"
      },
      "source": [
        "model.embedding.weight.data.copy_(pretrained_embeddings)"
      ],
      "execution_count": 11,
      "outputs": [
        {
          "output_type": "execute_result",
          "data": {
            "text/plain": [
              "tensor([[-1.1507, -0.4920,  1.0079,  ..., -0.4377, -0.4171, -0.4464],\n",
              "        [-1.1612, -1.1468,  0.6482,  ..., -0.7333, -0.2135,  0.6706],\n",
              "        [-0.0382, -0.2449,  0.7281,  ..., -0.1459,  0.8278,  0.2706],\n",
              "        ...,\n",
              "        [ 0.2550,  0.6494,  0.3156,  ..., -1.1001,  0.6163,  0.1800],\n",
              "        [ 0.2564,  0.0799,  0.5741,  ..., -0.4184,  0.1494,  0.3029],\n",
              "        [ 0.9388, -0.2669,  0.4541,  ...,  0.0668, -0.2694, -0.5749]])"
            ]
          },
          "metadata": {
            "tags": []
          },
          "execution_count": 11
        }
      ]
    },
    {
      "cell_type": "code",
      "metadata": {
        "id": "Ho-XLfr0LtY5",
        "colab_type": "code",
        "colab": {}
      },
      "source": [
        "unk_idx = TEXT.vocab.stoi[TEXT.unk_token]\n",
        "\n",
        "model.embedding.weight.data[unk_idx] = torch.zeros(embedding_dim)\n",
        "model.embedding.weight.data[pad_idx] = torch.zeros(embedding_dim)"
      ],
      "execution_count": 0,
      "outputs": []
    },
    {
      "cell_type": "code",
      "metadata": {
        "id": "dRL4XLfyYrvo",
        "colab_type": "code",
        "colab": {}
      },
      "source": [
        "import torch.optim as optim\n",
        "optimizer = optim.Adam(model.parameters())"
      ],
      "execution_count": 0,
      "outputs": []
    },
    {
      "cell_type": "code",
      "metadata": {
        "id": "FKSVs_c8jkJd",
        "colab_type": "code",
        "colab": {}
      },
      "source": [
        "criterion = nn.BCEWithLogitsLoss()"
      ],
      "execution_count": 0,
      "outputs": []
    },
    {
      "cell_type": "code",
      "metadata": {
        "id": "IzqjwxBojrE6",
        "colab_type": "code",
        "colab": {}
      },
      "source": [
        "model = model.to(device)\n",
        "criterion = criterion.to(device)"
      ],
      "execution_count": 0,
      "outputs": []
    },
    {
      "cell_type": "code",
      "metadata": {
        "id": "hOJyhBi5jxL9",
        "colab_type": "code",
        "colab": {}
      },
      "source": [
        "def binary_accuracy(preds, y):\n",
        "    round_preds = torch.round(torch.sigmoid(preds))\n",
        "    correct = (round_preds == y).float()\n",
        "    acc = correct.sum() / len(correct)\n",
        "    return acc"
      ],
      "execution_count": 0,
      "outputs": []
    },
    {
      "cell_type": "code",
      "metadata": {
        "id": "XjNAy5zQnI3S",
        "colab_type": "code",
        "colab": {}
      },
      "source": [
        "def train(model, iterator, optimizer, criterion):\n",
        "    epoch_loss = 0\n",
        "    epoch_accuracy = 0\n",
        "    model.train()\n",
        "    model.zero_grad()\n",
        "    for batch in iterator:\n",
        "        text, text_lengths = batch.text\n",
        "        predictions = model(text, text_lengths).squeeze(1)\n",
        "        loss = criterion(predictions, batch.label)\n",
        "        accuracy = binary_accuracy(predictions, batch.label)\n",
        "        loss.backward()\n",
        "        nn.utils.clip_grad_norm_(model.parameters(), 50)\n",
        "        optimizer.step()\n",
        "\n",
        "        epoch_loss += loss\n",
        "        epoch_accuracy += accuracy\n",
        "\n",
        "    return epoch_loss / len(iterator), epoch_accuracy / len(iterator) "
      ],
      "execution_count": 0,
      "outputs": []
    },
    {
      "cell_type": "code",
      "metadata": {
        "id": "dr2FceRhoheW",
        "colab_type": "code",
        "colab": {}
      },
      "source": [
        "def evaluate(model, iterator, criterion):\n",
        "    epoch_loss = 0\n",
        "    epoch_accuracy = 0\n",
        "    \n",
        "    model.eval()\n",
        "    with torch.no_grad():\n",
        "        for batch in iterator:\n",
        "            text, text_lengths = batch.text\n",
        "            predictions = model(text, text_lengths).squeeze(1)\n",
        "            loss = criterion(predictions, batch.label)\n",
        "            accuracy = binary_accuracy(predictions, batch.label)\n",
        "\n",
        "            epoch_loss += loss\n",
        "            epoch_accuracy += accuracy\n",
        "        \n",
        "    return epoch_loss / len(iterator), epoch_accuracy / len(iterator)"
      ],
      "execution_count": 0,
      "outputs": []
    },
    {
      "cell_type": "code",
      "metadata": {
        "id": "69PHbrlNpaUR",
        "colab_type": "code",
        "colab": {}
      },
      "source": [
        "import time\n",
        "\n",
        "def epoch_time(start_time, end_time):\n",
        "    elapsed_time = end_time - start_time\n",
        "    elapsed_mins = int(elapsed_time / 60)\n",
        "    elapsed_secs = int(elapsed_time - (elapsed_mins * 60))\n",
        "    return elapsed_mins, elapsed_secs"
      ],
      "execution_count": 0,
      "outputs": []
    },
    {
      "cell_type": "code",
      "metadata": {
        "id": "YEWDLYwdqJdn",
        "colab_type": "code",
        "colab": {
          "base_uri": "https://localhost:8080/",
          "height": 1000
        },
        "outputId": "f940f53f-d861-4e6b-8387-5f714ad7aa64"
      },
      "source": [
        "no_of_epochs = 50\n",
        "best_valid_loss = float('inf')\n",
        "\n",
        "for epoch in range(no_of_epochs):\n",
        "    start_time = time.time()\n",
        "\n",
        "    train_loss, train_accuracy = train(model, train_iterator, optimizer, criterion)\n",
        "    valid_loss, valid_accuracy = evaluate(model, valid_iterator, criterion)\n",
        "\n",
        "    end_time = time.time()\n",
        "\n",
        "    epoch_mins, epoch_secs = epoch_time(start_time, end_time)\n",
        "\n",
        "    if valid_loss < best_valid_loss:\n",
        "        best_valid_loss = valid_loss\n",
        "        torch.save(model.state_dict(), 'tut2-model.pt')\n",
        "\n",
        "    print ('Epoch :  {} | time : {} mins {} secs'.format(epoch + 1, epoch_mins, epoch_secs))\n",
        "    print(f'\\tTrain Loss: {train_loss:.3f} | Train Acc: {train_accuracy*100:.2f}%')\n",
        "    print(f'\\t Val. Loss: {valid_loss:.3f} |  Val. Acc: {valid_accuracy*100:.2f}%')"
      ],
      "execution_count": 21,
      "outputs": [
        {
          "output_type": "stream",
          "text": [
            "Epoch :  1 | time : 0 mins 43 secs\n",
            "\tTrain Loss: 0.704 | Train Acc: 52.18%\n",
            "\t Val. Loss: 0.677 |  Val. Acc: 53.13%\n",
            "Epoch :  2 | time : 0 mins 44 secs\n",
            "\tTrain Loss: 0.679 | Train Acc: 59.73%\n",
            "\t Val. Loss: 0.643 |  Val. Acc: 59.83%\n",
            "Epoch :  3 | time : 0 mins 44 secs\n",
            "\tTrain Loss: 0.679 | Train Acc: 59.73%\n",
            "\t Val. Loss: 0.640 |  Val. Acc: 62.82%\n",
            "Epoch :  4 | time : 0 mins 45 secs\n",
            "\tTrain Loss: 0.618 | Train Acc: 67.40%\n",
            "\t Val. Loss: 0.691 |  Val. Acc: 59.90%\n",
            "Epoch :  5 | time : 0 mins 45 secs\n",
            "\tTrain Loss: 0.582 | Train Acc: 70.21%\n",
            "\t Val. Loss: 0.551 |  Val. Acc: 73.65%\n",
            "Epoch :  6 | time : 0 mins 45 secs\n",
            "\tTrain Loss: 0.525 | Train Acc: 75.41%\n",
            "\t Val. Loss: 0.503 |  Val. Acc: 75.32%\n",
            "Epoch :  7 | time : 0 mins 45 secs\n",
            "\tTrain Loss: 0.445 | Train Acc: 79.71%\n",
            "\t Val. Loss: 0.392 |  Val. Acc: 83.13%\n",
            "Epoch :  8 | time : 0 mins 45 secs\n",
            "\tTrain Loss: 0.399 | Train Acc: 82.65%\n",
            "\t Val. Loss: 0.385 |  Val. Acc: 83.12%\n",
            "Epoch :  9 | time : 0 mins 45 secs\n",
            "\tTrain Loss: 0.359 | Train Acc: 84.94%\n",
            "\t Val. Loss: 0.349 |  Val. Acc: 85.22%\n",
            "Epoch :  10 | time : 0 mins 45 secs\n",
            "\tTrain Loss: 0.351 | Train Acc: 85.41%\n",
            "\t Val. Loss: 0.359 |  Val. Acc: 84.24%\n",
            "Epoch :  11 | time : 0 mins 45 secs\n",
            "\tTrain Loss: 0.345 | Train Acc: 85.70%\n",
            "\t Val. Loss: 0.341 |  Val. Acc: 85.52%\n",
            "Epoch :  12 | time : 0 mins 45 secs\n",
            "\tTrain Loss: 0.334 | Train Acc: 86.37%\n",
            "\t Val. Loss: 0.338 |  Val. Acc: 85.79%\n",
            "Epoch :  13 | time : 0 mins 45 secs\n",
            "\tTrain Loss: 0.330 | Train Acc: 86.42%\n",
            "\t Val. Loss: 0.334 |  Val. Acc: 85.64%\n",
            "Epoch :  14 | time : 0 mins 45 secs\n",
            "\tTrain Loss: 0.322 | Train Acc: 86.66%\n",
            "\t Val. Loss: 0.333 |  Val. Acc: 85.43%\n",
            "Epoch :  15 | time : 0 mins 45 secs\n",
            "\tTrain Loss: 0.318 | Train Acc: 87.05%\n",
            "\t Val. Loss: 0.333 |  Val. Acc: 85.88%\n",
            "Epoch :  16 | time : 0 mins 45 secs\n",
            "\tTrain Loss: 0.318 | Train Acc: 87.03%\n",
            "\t Val. Loss: 0.336 |  Val. Acc: 85.84%\n",
            "Epoch :  17 | time : 0 mins 45 secs\n",
            "\tTrain Loss: 0.319 | Train Acc: 86.85%\n",
            "\t Val. Loss: 0.331 |  Val. Acc: 85.75%\n",
            "Epoch :  18 | time : 0 mins 45 secs\n",
            "\tTrain Loss: 0.310 | Train Acc: 87.15%\n",
            "\t Val. Loss: 0.330 |  Val. Acc: 85.75%\n",
            "Epoch :  19 | time : 0 mins 45 secs\n",
            "\tTrain Loss: 0.318 | Train Acc: 87.04%\n",
            "\t Val. Loss: 0.329 |  Val. Acc: 85.98%\n",
            "Epoch :  20 | time : 0 mins 45 secs\n",
            "\tTrain Loss: 0.316 | Train Acc: 86.84%\n",
            "\t Val. Loss: 0.328 |  Val. Acc: 86.33%\n",
            "Epoch :  21 | time : 0 mins 45 secs\n",
            "\tTrain Loss: 0.313 | Train Acc: 87.16%\n",
            "\t Val. Loss: 0.334 |  Val. Acc: 86.24%\n",
            "Epoch :  22 | time : 0 mins 45 secs\n",
            "\tTrain Loss: 0.316 | Train Acc: 86.96%\n",
            "\t Val. Loss: 0.332 |  Val. Acc: 86.18%\n",
            "Epoch :  23 | time : 0 mins 45 secs\n",
            "\tTrain Loss: 0.314 | Train Acc: 87.02%\n",
            "\t Val. Loss: 0.329 |  Val. Acc: 86.47%\n",
            "Epoch :  24 | time : 0 mins 45 secs\n",
            "\tTrain Loss: 0.315 | Train Acc: 87.03%\n",
            "\t Val. Loss: 0.325 |  Val. Acc: 86.39%\n",
            "Epoch :  25 | time : 0 mins 45 secs\n",
            "\tTrain Loss: 0.306 | Train Acc: 87.23%\n",
            "\t Val. Loss: 0.335 |  Val. Acc: 85.75%\n",
            "Epoch :  26 | time : 0 mins 45 secs\n",
            "\tTrain Loss: 0.307 | Train Acc: 87.38%\n",
            "\t Val. Loss: 0.333 |  Val. Acc: 86.26%\n",
            "Epoch :  27 | time : 0 mins 44 secs\n",
            "\tTrain Loss: 0.306 | Train Acc: 87.33%\n",
            "\t Val. Loss: 0.326 |  Val. Acc: 86.40%\n",
            "Epoch :  28 | time : 0 mins 44 secs\n",
            "\tTrain Loss: 0.309 | Train Acc: 87.22%\n",
            "\t Val. Loss: 0.325 |  Val. Acc: 86.31%\n",
            "Epoch :  29 | time : 0 mins 45 secs\n",
            "\tTrain Loss: 0.308 | Train Acc: 87.37%\n",
            "\t Val. Loss: 0.332 |  Val. Acc: 86.56%\n",
            "Epoch :  30 | time : 0 mins 45 secs\n",
            "\tTrain Loss: 0.306 | Train Acc: 87.32%\n",
            "\t Val. Loss: 0.335 |  Val. Acc: 85.88%\n",
            "Epoch :  31 | time : 0 mins 45 secs\n",
            "\tTrain Loss: 0.302 | Train Acc: 87.43%\n",
            "\t Val. Loss: 0.343 |  Val. Acc: 85.53%\n",
            "Epoch :  32 | time : 0 mins 45 secs\n",
            "\tTrain Loss: 0.302 | Train Acc: 87.52%\n",
            "\t Val. Loss: 0.333 |  Val. Acc: 86.71%\n",
            "Epoch :  33 | time : 0 mins 44 secs\n",
            "\tTrain Loss: 0.303 | Train Acc: 87.36%\n",
            "\t Val. Loss: 0.326 |  Val. Acc: 86.60%\n",
            "Epoch :  34 | time : 0 mins 44 secs\n",
            "\tTrain Loss: 0.300 | Train Acc: 87.77%\n",
            "\t Val. Loss: 0.331 |  Val. Acc: 86.63%\n",
            "Epoch :  35 | time : 0 mins 45 secs\n",
            "\tTrain Loss: 0.293 | Train Acc: 88.21%\n",
            "\t Val. Loss: 0.334 |  Val. Acc: 86.69%\n",
            "Epoch :  36 | time : 0 mins 45 secs\n",
            "\tTrain Loss: 0.303 | Train Acc: 87.75%\n",
            "\t Val. Loss: 0.332 |  Val. Acc: 86.50%\n",
            "Epoch :  37 | time : 0 mins 45 secs\n",
            "\tTrain Loss: 0.301 | Train Acc: 87.54%\n",
            "\t Val. Loss: 0.331 |  Val. Acc: 86.74%\n",
            "Epoch :  38 | time : 0 mins 45 secs\n",
            "\tTrain Loss: 0.297 | Train Acc: 87.76%\n",
            "\t Val. Loss: 0.337 |  Val. Acc: 86.67%\n",
            "Epoch :  39 | time : 0 mins 45 secs\n",
            "\tTrain Loss: 0.298 | Train Acc: 87.63%\n",
            "\t Val. Loss: 0.332 |  Val. Acc: 86.66%\n",
            "Epoch :  40 | time : 0 mins 45 secs\n",
            "\tTrain Loss: 0.299 | Train Acc: 87.83%\n",
            "\t Val. Loss: 0.335 |  Val. Acc: 86.09%\n",
            "Epoch :  41 | time : 0 mins 45 secs\n",
            "\tTrain Loss: 0.301 | Train Acc: 87.46%\n",
            "\t Val. Loss: 0.332 |  Val. Acc: 86.42%\n",
            "Epoch :  42 | time : 0 mins 45 secs\n",
            "\tTrain Loss: 0.299 | Train Acc: 87.75%\n",
            "\t Val. Loss: 0.341 |  Val. Acc: 86.33%\n",
            "Epoch :  43 | time : 0 mins 45 secs\n",
            "\tTrain Loss: 0.298 | Train Acc: 87.97%\n",
            "\t Val. Loss: 0.323 |  Val. Acc: 86.49%\n",
            "Epoch :  44 | time : 0 mins 44 secs\n",
            "\tTrain Loss: 0.298 | Train Acc: 87.76%\n",
            "\t Val. Loss: 0.336 |  Val. Acc: 86.65%\n",
            "Epoch :  45 | time : 0 mins 45 secs\n",
            "\tTrain Loss: 0.295 | Train Acc: 88.12%\n",
            "\t Val. Loss: 0.334 |  Val. Acc: 86.45%\n",
            "Epoch :  46 | time : 0 mins 45 secs\n",
            "\tTrain Loss: 0.297 | Train Acc: 87.73%\n",
            "\t Val. Loss: 0.327 |  Val. Acc: 86.52%\n",
            "Epoch :  47 | time : 0 mins 45 secs\n",
            "\tTrain Loss: 0.292 | Train Acc: 88.02%\n",
            "\t Val. Loss: 0.328 |  Val. Acc: 86.65%\n",
            "Epoch :  48 | time : 0 mins 45 secs\n",
            "\tTrain Loss: 0.292 | Train Acc: 88.07%\n",
            "\t Val. Loss: 0.330 |  Val. Acc: 86.50%\n",
            "Epoch :  49 | time : 0 mins 45 secs\n",
            "\tTrain Loss: 0.294 | Train Acc: 87.70%\n",
            "\t Val. Loss: 0.330 |  Val. Acc: 86.14%\n",
            "Epoch :  50 | time : 0 mins 46 secs\n",
            "\tTrain Loss: 0.290 | Train Acc: 87.98%\n",
            "\t Val. Loss: 0.335 |  Val. Acc: 86.13%\n"
          ],
          "name": "stdout"
        }
      ]
    },
    {
      "cell_type": "code",
      "metadata": {
        "id": "uOsCH9oPzpuR",
        "colab_type": "code",
        "colab": {
          "base_uri": "https://localhost:8080/",
          "height": 34
        },
        "outputId": "95f3538a-2cb8-4628-ae96-a7dd5a83d1bc"
      },
      "source": [
        "test_loss, test_accuracy = evaluate(model, test_iterator, criterion)\n",
        "print ('The test loss is : {} and test accuracy is {}'.format(test_loss, test_accuracy))"
      ],
      "execution_count": 23,
      "outputs": [
        {
          "output_type": "stream",
          "text": [
            "The test loss is : 0.3525247871875763 and test accuracy is 0.85053551197052\n"
          ],
          "name": "stdout"
        }
      ]
    },
    {
      "cell_type": "code",
      "metadata": {
        "id": "HOyrsQS3R0zd",
        "colab_type": "code",
        "colab": {}
      },
      "source": [
        "import spacy\n",
        "nlp = spacy.load('en')\n",
        "\n",
        "def predict_sentiment(model, sentence):\n",
        "    model.eval()\n",
        "    tokenized = [tok.text for tok in nlp.tokenizer(sentence)]\n",
        "    indexed = [TEXT.vocab.stoi[t] for t in tokenized]\n",
        "    length = [len(indexed)]\n",
        "    tensor = torch.LongTensor(indexed).to(device)\n",
        "    tensor = tensor.unsqueeze(1)\n",
        "    length_tensor = torch.LongTensor(length)\n",
        "    prediction = torch.sigmoid(model(tensor, length_tensor))\n",
        "    return prediction.item()"
      ],
      "execution_count": 0,
      "outputs": []
    },
    {
      "cell_type": "code",
      "metadata": {
        "id": "NYrejcsbR3IT",
        "colab_type": "code",
        "colab": {
          "base_uri": "https://localhost:8080/",
          "height": 34
        },
        "outputId": "79cff9ff-e70a-4fb7-ad73-2677a1a66028"
      },
      "source": [
        "predict_sentiment(model, 'This is film is garbage at best')"
      ],
      "execution_count": 42,
      "outputs": [
        {
          "output_type": "execute_result",
          "data": {
            "text/plain": [
              "0.5037786960601807"
            ]
          },
          "metadata": {
            "tags": []
          },
          "execution_count": 42
        }
      ]
    }
  ]
}